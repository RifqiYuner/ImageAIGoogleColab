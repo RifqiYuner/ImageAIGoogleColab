{
  "nbformat": 4,
  "nbformat_minor": 0,
  "metadata": {
    "colab": {
      "name": "ImageAI Project.ipynb",
      "provenance": [],
      "collapsed_sections": [],
      "include_colab_link": true
    },
    "kernelspec": {
      "name": "python3",
      "display_name": "Python 3"
    },
    "accelerator": "GPU"
  },
  "cells": [
    {
      "cell_type": "markdown",
      "metadata": {
        "id": "view-in-github",
        "colab_type": "text"
      },
      "source": [
        "<a href=\"https://colab.research.google.com/github/RifqiYuner/ImageAIGoogleColab/blob/master/ImageAI_Project.ipynb\" target=\"_parent\"><img src=\"https://colab.research.google.com/assets/colab-badge.svg\" alt=\"Open In Colab\"/></a>"
      ]
    },
    {
      "cell_type": "code",
      "metadata": {
        "id": "t8DI3ZcXRlH3",
        "colab_type": "code",
        "outputId": "1e5b2b02-0a7f-4c02-f5bd-dc088cb55abe",
        "colab": {
          "base_uri": "https://localhost:8080/",
          "height": 269
        }
      },
      "source": [
        "from imageai.Prediction import ImagePrediction\n",
        "import os\n",
        "\n",
        "execution_path = os.getcwd()\n",
        "\n",
        "multiple_prediction = ImagePrediction()\n",
        "multiple_prediction.setModelTypeAsResNet()\n",
        "multiple_prediction.setModelPath(os.path.join(execution_path, \"resnet50_weights_tf_dim_ordering_tf_kernels.h5\"))\n",
        "multiple_prediction.loadModel()\n",
        "\n",
        "all_images_array = []\n",
        "\n",
        "all_files = os.listdir(execution_path)\n",
        "for each_file in all_files:\n",
        "    if(each_file.endswith(\".jpg\") or each_file.endswith(\".png\")):\n",
        "        all_images_array.append(each_file)\n",
        "      \n",
        "results_array = multiple_prediction.predictMultipleImages(all_images_array, result_count_per_image=5)\n",
        "print(\"cuk ga ada file jpeg\")\n",
        "for each_result in results_array:\n",
        "    predictions, percentage_probabilities = each_result[\"predictions\"], each_result[\"percentage_probabilities\"]\n",
        "    for index in range(len(predictions)):\n",
        "        print(predictions[index] , \" : \" , percentage_probabilities[index])\n",
        "    print(\"-----------------------\")\n",
        "    \n",
        "    "
      ],
      "execution_count": 0,
      "outputs": [
        {
          "output_type": "stream",
          "text": [
            "WARNING:tensorflow:When passing input data as arrays, do not specify `steps_per_epoch`/`steps` argument. Please use `batch_size` instead.\n",
            "WARNING:tensorflow:When passing input data as arrays, do not specify `steps_per_epoch`/`steps` argument. Please use `batch_size` instead.\n",
            "cuk ga ada file jpeg\n",
            "moving_van  :  62.091052532196045\n",
            "school_bus  :  16.387520730495453\n",
            "trailer_truck  :  7.773570716381073\n",
            "pickup  :  3.7726394832134247\n",
            "grille  :  2.329619415104389\n",
            "-----------------------\n",
            "sports_car  :  57.694172859191895\n",
            "racer  :  40.191495418548584\n",
            "car_wheel  :  0.7058503571897745\n",
            "convertible  :  0.5742190405726433\n",
            "grille  :  0.33200306352227926\n",
            "-----------------------\n"
          ],
          "name": "stdout"
        }
      ]
    },
    {
      "cell_type": "code",
      "metadata": {
        "id": "nCPTkBPOhb5m",
        "colab_type": "code",
        "colab": {}
      },
      "source": [
        ""
      ],
      "execution_count": 0,
      "outputs": []
    }
  ]
}